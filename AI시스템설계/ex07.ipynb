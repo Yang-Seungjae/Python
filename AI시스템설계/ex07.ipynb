{
 "cells": [
  {
   "cell_type": "code",
   "execution_count": 1,
   "id": "b0721e96",
   "metadata": {},
   "outputs": [
    {
     "name": "stdout",
     "output_type": "stream",
     "text": [
      "평균제곱오차 = 0.19399999999999995\n"
     ]
    }
   ],
   "source": [
    "import numpy as np\n",
    "\n",
    "y = np.array([1.2, 2.4, 2.5, 4.6, 5.4])\n",
    "y_hat = np.array([1,2,3,4,5])\n",
    "diff = (y_hat -y ) **2\n",
    "e_mse = diff.sum() / len(y)\n",
    "\n",
    "print('평균제곱오차 =', e_mse)"
   ]
  },
  {
   "cell_type": "code",
   "execution_count": 2,
   "id": "98251503",
   "metadata": {},
   "outputs": [
    {
     "name": "stdout",
     "output_type": "stream",
     "text": [
      "평균제곱오차 = 0.19399999999999995\n"
     ]
    }
   ],
   "source": [
    "from sklearn.metrics import mean_squared_error\n",
    "\n",
    "print('평균제곱오차 =', mean_squared_error(y_hat,y))"
   ]
  },
  {
   "cell_type": "code",
   "execution_count": 4,
   "id": "171504d9",
   "metadata": {},
   "outputs": [
    {
     "name": "stdout",
     "output_type": "stream",
     "text": [
      "model A의 MAE= 0.32499999999999996\n",
      "model B의 MAE= 0.3500000000000001\n"
     ]
    }
   ],
   "source": [
    "import numpy as np\n",
    "model_A = np.array([0.9, 1.3, 3.3, 3.8])\n",
    "model_B = np.array([0.5, 1.9, 3.4, 4.4])\n",
    "model_true = np.array([1, 2, 3, 4])\n",
    "n = 4\n",
    "\n",
    "print('model A의 MAE=', np.abs(model_A - model_true).sum()/n)\n",
    "print('model B의 MAE=', np.abs(model_B - model_true).sum()/n)"
   ]
  },
  {
   "cell_type": "code",
   "execution_count": 5,
   "id": "de414b13",
   "metadata": {},
   "outputs": [
    {
     "name": "stdout",
     "output_type": "stream",
     "text": [
      "w= 0.63 ,b= -1.65\n"
     ]
    }
   ],
   "source": [
    "X=np.array([1, 4.5 ,9,10,13])\n",
    "y=np.array([0,0.2,2.5,5.4,7.3])\n",
    "\n",
    "w,b = 0,0\n",
    "learning_rate, epoch=0.005, 1000\n",
    "n=len(X)\n",
    "\n",
    "for i in range(epoch):\n",
    "    y_pred=w*X+b\n",
    "    error = y_pred-y\n",
    "    w=w-learning_rate*(error*X).sum()\n",
    "    b=b-learning_rate*error.sum()\n",
    "\n",
    "print('w=',w.round(2), ',b=',b.round(2))"
   ]
  },
  {
   "cell_type": "code",
   "execution_count": null,
   "id": "89782fe4",
   "metadata": {},
   "outputs": [],
   "source": []
  }
 ],
 "metadata": {
  "kernelspec": {
   "display_name": "Python 3 (ipykernel)",
   "language": "python",
   "name": "python3"
  },
  "language_info": {
   "codemirror_mode": {
    "name": "ipython",
    "version": 3
   },
   "file_extension": ".py",
   "mimetype": "text/x-python",
   "name": "python",
   "nbconvert_exporter": "python",
   "pygments_lexer": "ipython3",
   "version": "3.11.4"
  }
 },
 "nbformat": 4,
 "nbformat_minor": 5
}
