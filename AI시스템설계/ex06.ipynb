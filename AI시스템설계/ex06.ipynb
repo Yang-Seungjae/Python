{
 "cells": [
  {
   "cell_type": "code",
   "execution_count": 11,
   "id": "3805cacf",
   "metadata": {},
   "outputs": [
    {
     "name": "stdout",
     "output_type": "stream",
     "text": [
      "y = [ 0.75 -7.23]*X + -61.23\n",
      "데이터와 선형 회귀 직선의 관계점수 : 84.3%\n",
      "[[168, 0], [166, 0], [173, 0], [165, 0], [177, 0], [163, 0], [178, 0], [172, 0], [163, 1], [162, 1], [171, 1], [162, 1], [164, 1], [162, 1], [158, 1], [173, 1]]\n",
      "[65, 61, 68, 63, 68, 61, 76, 67, 55, 51, 59, 53, 61, 56, 44, 57]\n"
     ]
    }
   ],
   "source": [
    "import matplotlib.pyplot as plt\n",
    "from sklearn import linear_model\n",
    "\n",
    "regr = linear_model.LinearRegression()\n",
    "\n",
    "X = [[168, 0], [166, 0], [173, 0], [165, 0], [177, 0], [163, 0], [178, 0], [172, 0], [163, 1], [162, 1], [171, 1], [162, 1], [164, 1], [162, 1], [158, 1], [173, 1]]\n",
    "y = [65, 61, 68, 63, 68, 61, 76, 67, 55, 51, 59, 53, 61, 56, 44, 57]\n",
    "\n",
    "regr.fit(X,y)\n",
    "\n",
    "coef = regr.coef_\n",
    "intercept = regr.intercept_\n",
    "score = regr.score(X,y)\n",
    "\n",
    "print(\"y = {}*X + {:.2f}\".format(coef.round(2), intercept))\n",
    "print(\"데이터와 선형 회귀 직선의 관계점수 : {:.1%}\".format(score))\n",
    "print(X)\n",
    "print(y)\n"
   ]
  },
  {
   "cell_type": "code",
   "execution_count": null,
   "id": "3207fac4",
   "metadata": {},
   "outputs": [],
   "source": []
  }
 ],
 "metadata": {
  "kernelspec": {
   "display_name": "Python 3 (ipykernel)",
   "language": "python",
   "name": "python3"
  },
  "language_info": {
   "codemirror_mode": {
    "name": "ipython",
    "version": 3
   },
   "file_extension": ".py",
   "mimetype": "text/x-python",
   "name": "python",
   "nbconvert_exporter": "python",
   "pygments_lexer": "ipython3",
   "version": "3.11.4"
  }
 },
 "nbformat": 4,
 "nbformat_minor": 5
}
